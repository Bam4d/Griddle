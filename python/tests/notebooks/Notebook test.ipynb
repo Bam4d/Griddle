{
 "cells": [
  {
   "cell_type": "code",
   "execution_count": 1,
   "metadata": {},
   "outputs": [],
   "source": [
    "import gym\n",
    "import numpy as np\n",
    "from griddly import GymWrapperFactory, gd\n",
    "\n",
    "\n",
    "wrapper = GymWrapperFactory()\n",
    "\n",
    "wrapper.build_gym_from_yaml(\n",
    "    'Spiders-Adv',\n",
    "    'Single-Player/Mini-Grid/minigrid-spiders.yaml',\n",
    "    level=0,\n",
    "    global_observer_type=gd.ObserverType.SPRITE_2D,\n",
    "    player_observer_type=gd.ObserverType.SPRITE_2D,\n",
    "    tile_size=50\n",
    ")\n",
    "\n",
    "env = gym.make('GDY-Spiders-Adv-v0')\n",
    "    "
   ]
  },
  {
   "cell_type": "code",
   "execution_count": 2,
   "metadata": {},
   "outputs": [],
   "source": [
    "env.reset()\n",
    "\n",
    "# Replace with your own control algorithm!\n",
    "for s in range(1000):\n",
    "    obs, reward, done, info = env.step(env.action_space.sample())\n",
    "    env.render()\n",
    "\n",
    "    env.render(observer='global')\n"
   ]
  },
  {
   "cell_type": "code",
   "execution_count": null,
   "metadata": {},
   "outputs": [],
   "source": [
    "env.close()"
   ]
  },
  {
   "cell_type": "code",
   "execution_count": null,
   "metadata": {},
   "outputs": [],
   "source": []
  }
 ],
 "metadata": {
  "kernelspec": {
   "display_name": "Python 3",
   "language": "python",
   "name": "python3"
  },
  "language_info": {
   "codemirror_mode": {
    "name": "ipython",
    "version": 3
   },
   "file_extension": ".py",
   "mimetype": "text/x-python",
   "name": "python",
   "nbconvert_exporter": "python",
   "pygments_lexer": "ipython3",
   "version": "3.7.7"
  }
 },
 "nbformat": 4,
 "nbformat_minor": 4
}
